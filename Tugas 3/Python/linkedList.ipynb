{
 "cells": [
  {
   "cell_type": "markdown",
   "metadata": {},
   "source": [
    "# __Linked List Python__\n",
    "#### Faturrohman Fairuz Zaki - 22106050012 - PSD C"
   ]
  },
  {
   "cell_type": "markdown",
   "metadata": {},
   "source": [
    "Cara membuat Node Class"
   ]
  },
  {
   "cell_type": "code",
   "execution_count": 2,
   "metadata": {},
   "outputs": [],
   "source": [
    "class Node:\n",
    "\tdef __init__(self, data):\n",
    "\t\tself.data = data\n",
    "\t\tself.next = None"
   ]
  },
  {
   "cell_type": "markdown",
   "metadata": {},
   "source": [
    "## Penyisipan Node"
   ]
  },
  {
   "cell_type": "markdown",
   "metadata": {},
   "source": [
    "Menyisipkan node di awal Linked List"
   ]
  },
  {
   "cell_type": "code",
   "execution_count": 3,
   "metadata": {},
   "outputs": [],
   "source": [
    "def insertAtBegin(self, data):\n",
    "\tnew_node = Node(data)\n",
    "\tif self.head is None:\n",
    "\t\tself.head = new_node\n",
    "\t\treturn\n",
    "\telse:\n",
    "\t\tnew_node.next = self.head\n",
    "\t\tself.head = new_node"
   ]
  },
  {
   "cell_type": "markdown",
   "metadata": {},
   "source": [
    "Menyisipkan node di posisi tertentu pada Linked List"
   ]
  },
  {
   "cell_type": "code",
   "execution_count": 4,
   "metadata": {},
   "outputs": [],
   "source": [
    "# Indexing starts from 0.\n",
    "def insertAtIndex(self, data, index):\n",
    "\t\tnew_node = Node(data)\n",
    "\t\tcurrent_node = self.head\n",
    "\t\tposition = 0\n",
    "\t\tif position == index:\n",
    "\t\t\tself.insertAtBegin(data)\n",
    "\t\telse:\n",
    "\t\t\twhile(current_node != None and position+1 != index):\n",
    "\t\t\t\tposition = position+1\n",
    "\t\t\t\tcurrent_node = current_node.next\n",
    "\n",
    "\t\t\tif current_node != None:\n",
    "\n",
    "\t\t\t\tnew_node.next = current_node.next\n",
    "\t\t\t\tcurrent_node.next = new_node\n",
    "\t\t\telse:\n",
    "\t\t\t\tprint(\"Index not present\")"
   ]
  },
  {
   "cell_type": "markdown",
   "metadata": {},
   "source": [
    "Menyisipkan node di akhir Linked List"
   ]
  },
  {
   "cell_type": "code",
   "execution_count": 5,
   "metadata": {},
   "outputs": [],
   "source": [
    "def inserAtEnd(self, data):\n",
    "\tnew_node = Node(data)\n",
    "\tif self.head is None:\n",
    "\t\tself.head = new_node\n",
    "\t\treturn\n",
    "\n",
    "\tcurrent_node = self.head\n",
    "\twhile(current_node.next):\n",
    "\t\tcurrent_node = current_node.next\n",
    "\n",
    "\tcurrent_node.next = new_node"
   ]
  },
  {
   "cell_type": "markdown",
   "metadata": {},
   "source": [
    "Memperbarui node pada Linked List"
   ]
  },
  {
   "cell_type": "code",
   "execution_count": 6,
   "metadata": {},
   "outputs": [],
   "source": [
    "# Update node of a linked list\n",
    "# at given position\n",
    "def updateNode(self, val, index):\n",
    "\tcurrent_node = self.head\n",
    "\tposition = 0\n",
    "\tif position == index:\n",
    "\t\tcurrent_node.data = val\n",
    "\telse:\n",
    "\t\twhile(current_node != None and position != index):\n",
    "\t\t\tposition = position+1\n",
    "\t\t\tcurrent_node = current_node.next\n",
    "\n",
    "\t\tif current_node != None:\n",
    "\t\t\tcurrent_node.data = val\n",
    "\t\telse:\n",
    "\t\t\tprint(\"Index not present\")"
   ]
  },
  {
   "cell_type": "markdown",
   "metadata": {},
   "source": [
    "## Menghapus Linked List"
   ]
  },
  {
   "cell_type": "markdown",
   "metadata": {},
   "source": [
    "Menghapus node pertama pada Linked List"
   ]
  },
  {
   "cell_type": "code",
   "execution_count": 7,
   "metadata": {},
   "outputs": [],
   "source": [
    "def remove_first_node(self):\n",
    "\tif(self.head == None):\n",
    "\t\treturn\n",
    "\t\n",
    "\tself.head = self.head.next"
   ]
  },
  {
   "cell_type": "markdown",
   "metadata": {},
   "source": [
    "Menghapus node terakhir pada Linked List"
   ]
  },
  {
   "cell_type": "code",
   "execution_count": 8,
   "metadata": {},
   "outputs": [],
   "source": [
    "def remove_last_node(self):\n",
    "\n",
    "\tif self.head is None:\n",
    "\t\treturn\n",
    "\n",
    "\tcurrent_node = self.head\n",
    "\twhile(current_node.next.next):\n",
    "\t\tcurrent_node = current_node.next\n",
    "\n",
    "\tcurrent_node.next = None"
   ]
  },
  {
   "cell_type": "markdown",
   "metadata": {},
   "source": [
    "Menghapus node pada posisi tertentu pada Linked List"
   ]
  },
  {
   "cell_type": "code",
   "execution_count": 9,
   "metadata": {},
   "outputs": [],
   "source": [
    "# Method to remove at given index\n",
    "def remove_at_index(self, index):\n",
    "\t\tif self.head == None:\n",
    "\t\t\treturn\n",
    "\n",
    "\t\tcurrent_node = self.head\n",
    "\t\tposition = 0\n",
    "\t\tif position == index:\n",
    "\t\t\tself.remove_first_node()\n",
    "\t\telse:\n",
    "\t\t\twhile(current_node != None and position+1 != index):\n",
    "\t\t\t\tposition = position+1\n",
    "\t\t\t\tcurrent_node = current_node.next\n",
    "\n",
    "\t\t\tif current_node != None:\n",
    "\t\t\t\tcurrent_node.next = current_node.next.next\n",
    "\t\t\telse:\n",
    "\t\t\t\tprint(\"Index not present\")"
   ]
  },
  {
   "cell_type": "markdown",
   "metadata": {},
   "source": [
    "Menghapus node berdasarkan data yang diberikan"
   ]
  },
  {
   "cell_type": "code",
   "execution_count": 10,
   "metadata": {},
   "outputs": [],
   "source": [
    "def remove_node(self, data):\n",
    "\tcurrent_node = self.head\n",
    "\n",
    "\t# Check if the head node contains the specified data\n",
    "\tif current_node.data == data:\n",
    "\t\tself.remove_first_node()\n",
    "\t\treturn\n",
    "\n",
    "\twhile current_node is not None and current_node.next.data != data:\n",
    "\t\tcurrent_node = current_node.next\n",
    "\n",
    "\tif current_node is None:\n",
    "\t\treturn\n",
    "\telse:\n",
    "\t\tcurrent_node.next = current_node.next.next"
   ]
  },
  {
   "cell_type": "markdown",
   "metadata": {},
   "source": [
    "Linked List Traversal pada Python"
   ]
  },
  {
   "cell_type": "code",
   "execution_count": 11,
   "metadata": {},
   "outputs": [],
   "source": [
    "def printLL(self):\n",
    "\tcurrent_node = self.head\n",
    "\twhile(current_node):\n",
    "\t\tprint(current_node.data)\n",
    "\t\tcurrent_node = current_node.next"
   ]
  },
  {
   "cell_type": "markdown",
   "metadata": {},
   "source": [
    "Cek panjang Linked List"
   ]
  },
  {
   "cell_type": "code",
   "execution_count": 12,
   "metadata": {},
   "outputs": [],
   "source": [
    "def sizeOfLL(self):\n",
    "\tsize = 0\n",
    "\tif(self.head):\n",
    "\t\tcurrent_node = self.head\n",
    "\t\twhile(current_node):\n",
    "\t\t\tsize = size+1\n",
    "\t\t\tcurrent_node = current_node.next\n",
    "\t\treturn size\n",
    "\telse:\n",
    "\t\treturn 0"
   ]
  },
  {
   "cell_type": "markdown",
   "metadata": {},
   "source": [
    "## Contoh Implementasi Linked List pada Python"
   ]
  },
  {
   "cell_type": "code",
   "execution_count": 13,
   "metadata": {},
   "outputs": [
    {
     "name": "stdout",
     "output_type": "stream",
     "text": [
      "Node Data\n",
      "c\n",
      "a\n",
      "g\n",
      "b\n",
      "d\n",
      "\n",
      "Remove First Node\n",
      "Remove Last Node\n",
      "Remove Node at Index 1\n",
      "\n",
      "Linked list after removing a node:\n",
      "a\n",
      "b\n",
      "\n",
      "Update node Value\n",
      "z\n",
      "b\n",
      "\n",
      "Size of linked list : 2\n"
     ]
    }
   ],
   "source": [
    "# Create a Node class to create a node\n",
    "class Node:\n",
    "\tdef __init__(self, data):\n",
    "\t\tself.data = data\n",
    "\t\tself.next = None\n",
    "\n",
    "# Create a LinkedList class\n",
    "\n",
    "\n",
    "class LinkedList:\n",
    "\tdef __init__(self):\n",
    "\t\tself.head = None\n",
    "\n",
    "\t# Method to add a node at begin of LL\n",
    "\tdef insertAtBegin(self, data):\n",
    "\t\tnew_node = Node(data)\n",
    "\t\tif self.head is None:\n",
    "\t\t\tself.head = new_node\n",
    "\t\t\treturn\n",
    "\t\telse:\n",
    "\t\t\tnew_node.next = self.head\n",
    "\t\t\tself.head = new_node\n",
    "\n",
    "\t# Method to add a node at any index\n",
    "\t# Indexing starts from 0.\n",
    "\tdef insertAtIndex(self, data, index):\n",
    "\t\tnew_node = Node(data)\n",
    "\t\tcurrent_node = self.head\n",
    "\t\tposition = 0\n",
    "\t\tif position == index:\n",
    "\t\t\tself.insertAtBegin(data)\n",
    "\t\telse:\n",
    "\t\t\twhile(current_node != None and position+1 != index):\n",
    "\t\t\t\tposition = position+1\n",
    "\t\t\t\tcurrent_node = current_node.next\n",
    "\n",
    "\t\t\tif current_node != None:\n",
    "\t\t\t\tnew_node.next = current_node.next\n",
    "\t\t\t\tcurrent_node.next = new_node\n",
    "\t\t\telse:\n",
    "\t\t\t\tprint(\"Index not present\")\n",
    "\n",
    "\t# Method to add a node at the end of LL\n",
    "\n",
    "\tdef insertAtEnd(self, data):\n",
    "\t\tnew_node = Node(data)\n",
    "\t\tif self.head is None:\n",
    "\t\t\tself.head = new_node\n",
    "\t\t\treturn\n",
    "\n",
    "\t\tcurrent_node = self.head\n",
    "\t\twhile(current_node.next):\n",
    "\t\t\tcurrent_node = current_node.next\n",
    "\n",
    "\t\tcurrent_node.next = new_node\n",
    "\n",
    "\t# Update node of a linked list\n",
    "\t\t# at given position\n",
    "\tdef updateNode(self, val, index):\n",
    "\t\tcurrent_node = self.head\n",
    "\t\tposition = 0\n",
    "\t\tif position == index:\n",
    "\t\t\tcurrent_node.data = val\n",
    "\t\telse:\n",
    "\t\t\twhile(current_node != None and position != index):\n",
    "\t\t\t\tposition = position+1\n",
    "\t\t\t\tcurrent_node = current_node.next\n",
    "\n",
    "\t\t\tif current_node != None:\n",
    "\t\t\t\tcurrent_node.data = val\n",
    "\t\t\telse:\n",
    "\t\t\t\tprint(\"Index not present\")\n",
    "\n",
    "\t# Method to remove first node of linked list\n",
    "\n",
    "\tdef remove_first_node(self):\n",
    "\t\tif(self.head == None):\n",
    "\t\t\treturn\n",
    "\n",
    "\t\tself.head = self.head.next\n",
    "\n",
    "\t# Method to remove last node of linked list\n",
    "\tdef remove_last_node(self):\n",
    "\n",
    "\t\tif self.head is None:\n",
    "\t\t\treturn\n",
    "\n",
    "\t\tcurrent_node = self.head\n",
    "\t\twhile(current_node.next.next):\n",
    "\t\t\tcurrent_node = current_node.next\n",
    "\n",
    "\t\tcurrent_node.next = None\n",
    "\n",
    "\t# Method to remove at given index\n",
    "\tdef remove_at_index(self, index):\n",
    "\t\tif self.head == None:\n",
    "\t\t\treturn\n",
    "\n",
    "\t\tcurrent_node = self.head\n",
    "\t\tposition = 0\n",
    "\t\tif position == index:\n",
    "\t\t\tself.remove_first_node()\n",
    "\t\telse:\n",
    "\t\t\twhile(current_node != None and position+1 != index):\n",
    "\t\t\t\tposition = position+1\n",
    "\t\t\t\tcurrent_node = current_node.next\n",
    "\n",
    "\t\t\tif current_node != None:\n",
    "\t\t\t\tcurrent_node.next = current_node.next.next\n",
    "\t\t\telse:\n",
    "\t\t\t\tprint(\"Index not present\")\n",
    "\n",
    "\t# Method to remove a node from linked list\n",
    "\tdef remove_node(self, data):\n",
    "\t\tcurrent_node = self.head\n",
    "\n",
    "\t\tif current_node.data == data:\n",
    "\t\t\tself.remove_first_node()\n",
    "\t\t\treturn\n",
    "\n",
    "\t\twhile(current_node != None and current_node.next.data != data):\n",
    "\t\t\tcurrent_node = current_node.next\n",
    "\n",
    "\t\tif current_node == None:\n",
    "\t\t\treturn\n",
    "\t\telse:\n",
    "\t\t\tcurrent_node.next = current_node.next.next\n",
    "\n",
    "\t# Print the size of linked list\n",
    "\tdef sizeOfLL(self):\n",
    "\t\tsize = 0\n",
    "\t\tif(self.head):\n",
    "\t\t\tcurrent_node = self.head\n",
    "\t\t\twhile(current_node):\n",
    "\t\t\t\tsize = size+1\n",
    "\t\t\t\tcurrent_node = current_node.next\n",
    "\t\t\treturn size\n",
    "\t\telse:\n",
    "\t\t\treturn 0\n",
    "\n",
    "\t# print method for the linked list\n",
    "\tdef printLL(self):\n",
    "\t\tcurrent_node = self.head\n",
    "\t\twhile(current_node):\n",
    "\t\t\tprint(current_node.data)\n",
    "\t\t\tcurrent_node = current_node.next\n",
    "\n",
    "\n",
    "# create a new linked list\n",
    "llist = LinkedList()\n",
    "\n",
    "# add nodes to the linked list\n",
    "llist.insertAtEnd('a')\n",
    "llist.insertAtEnd('b')\n",
    "llist.insertAtBegin('c')\n",
    "llist.insertAtEnd('d')\n",
    "llist.insertAtIndex('g', 2)\n",
    "\n",
    "# print the linked list\n",
    "print(\"Node Data\")\n",
    "llist.printLL()\n",
    "\n",
    "# remove a nodes from the linked list\n",
    "print(\"\\nRemove First Node\")\n",
    "llist.remove_first_node()\n",
    "print(\"Remove Last Node\")\n",
    "llist.remove_last_node()\n",
    "print(\"Remove Node at Index 1\")\n",
    "llist.remove_at_index(1)\n",
    "\n",
    "\n",
    "# print the linked list again\n",
    "print(\"\\nLinked list after removing a node:\")\n",
    "llist.printLL()\n",
    "\n",
    "print(\"\\nUpdate node Value\")\n",
    "llist.updateNode('z', 0)\n",
    "llist.printLL()\n",
    "\n",
    "print(\"\\nSize of linked list :\", end=\" \")\n",
    "print(llist.sizeOfLL())"
   ]
  }
 ],
 "metadata": {
  "kernelspec": {
   "display_name": "Python 3",
   "language": "python",
   "name": "python3"
  },
  "language_info": {
   "codemirror_mode": {
    "name": "ipython",
    "version": 3
   },
   "file_extension": ".py",
   "mimetype": "text/x-python",
   "name": "python",
   "nbconvert_exporter": "python",
   "pygments_lexer": "ipython3",
   "version": "3.9.6"
  }
 },
 "nbformat": 4,
 "nbformat_minor": 2
}
